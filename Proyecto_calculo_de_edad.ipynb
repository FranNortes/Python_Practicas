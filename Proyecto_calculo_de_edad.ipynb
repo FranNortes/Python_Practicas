{
  "nbformat": 4,
  "nbformat_minor": 0,
  "metadata": {
    "colab": {
      "provenance": []
    },
    "kernelspec": {
      "name": "python3",
      "display_name": "Python 3"
    },
    "language_info": {
      "name": "python"
    }
  },
  "cells": [
    {
      "cell_type": "code",
      "execution_count": null,
      "metadata": {
        "id": "88gVSgNifY9q"
      },
      "outputs": [],
      "source": [
        "edad = int(input())\n",
        "\n",
        "if edad >= 65:\n",
        "    print(\"Estás jubilado\")\n",
        "elif edad >= 18 and edad <= 65:\n",
        "    print(\"Eres mayor de edad\")\n",
        "elif edad >= 0 and edad <= 18:\n",
        "    print (\"Eres menor de edad\")\n",
        "else:\n",
        "    print(\"Error de Edad\")"
      ]
    }
  ]
}